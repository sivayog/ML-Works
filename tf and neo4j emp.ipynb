{
 "cells": [
  {
   "cell_type": "code",
   "execution_count": null,
   "metadata": {},
   "outputs": [],
   "source": [
    "import input_data\n",
    "mnist=input_data.read_data_sets"
   ]
  },
  {
   "cell_type": "code",
   "execution_count": null,
   "metadata": {},
   "outputs": [],
   "source": [
    "import tensorflow as tf"
   ]
  },
  {
   "cell_type": "code",
   "execution_count": null,
   "metadata": {},
   "outputs": [],
   "source": [
    "learning_rate=0.01\n",
    "training_iteration=50\n",
    "batch_size=100\n",
    "display_step=2"
   ]
  },
  {
   "cell_type": "code",
   "execution_count": null,
   "metadata": {},
   "outputs": [],
   "source": [
    "x=tf.placeholders(\"float\",[none,784])\n",
    "y=tf.placeholders(\"float\",[none,10])"
   ]
  },
  {
   "cell_type": "code",
   "execution_count": null,
   "metadata": {},
   "outputs": [],
   "source": [
    "root = tf.get_variable(\"root\", [n_root, embedding_width])\n",
    " branch = tf.get_variable(\"branch\",  [n_branch,  embedding_width])"
   ]
  },
  {
   "cell_type": "code",
   "execution_count": null,
   "metadata": {},
   "outputs": [],
   "source": [
    "tf.nn.embedding_lookup(root, root_id)\n",
    "tf.nn.embedding_lookup(branch,branch_id)\n",
    "s= tf.multiply(root_emb, branch_emb)\n",
    "s = tf.reduce_sum(s, axis=-1)\n",
    "s = tf.expand_dims(s, -1)\n"
   ]
  },
  {
   "cell_type": "code",
   "execution_count": null,
   "metadata": {},
   "outputs": [],
   "source": [
    "MATCH p=\n",
    " (root:ROOT) \n",
    "  -[:WROTE]-> \n",
    " (cell:CELL {dataset_name \"science\", test:{test}}) \n",
    "  -[:OF]-> \n",
    " (branch:BRANCH)\n",
    "RETURN \n",
    " root.id as root_id, \n",
    " branch.id as branch_id"
   ]
  },
  {
   "cell_type": "code",
   "execution_count": null,
   "metadata": {},
   "outputs": [],
   "source": [
    "raw_data = session.run(query, **query_paramester).data()\n",
    "def format_row(i):\n",
    "  return (\n",
    "    {\n",
    "       \"root\": {\n",
    "          \"id\": self._get_index(i, \"root\"),\n",
    "          \"align\": i[\"root_align\"],\n",
    "       },\n",
    "       branch: {\n",
    "          \"id\": self._get_index(i,\"branch\"),\n",
    "          \"align\": i[\"branch_align\"],\n",
    "       }, \n",
    "  )\n",
    "data = [format_row(i) for i in raw_data]"
   ]
  },
  {
   "cell_type": "code",
   "execution_count": null,
   "metadata": {},
   "outputs": [],
   "source": [
    "with tf.name_scope(\"wx-b\") as scope:"
   ]
  },
  {
   "cell_type": "code",
   "execution_count": null,
   "metadata": {},
   "outputs": [],
   "source": [
    "model=tf.nn.softmax(tf.matmul(x,w)+b)"
   ]
  },
  {
   "cell_type": "code",
   "execution_count": null,
   "metadata": {},
   "outputs": [],
   "source": [
    "with tf.name_scope(\"cost_function\") as scope:"
   ]
  },
  {
   "cell_type": "code",
   "execution_count": null,
   "metadata": {},
   "outputs": [],
   "source": [
    "cost_function=tf.reduce_sum(y*tf.log(model))\n",
    "tf.scalar-summary(\"cost_function\",cost_function)\n",
    "with tf.name_scope(\"train\") as scope:"
   ]
  },
  {
   "cell_type": "code",
   "execution_count": null,
   "metadata": {},
   "outputs": [],
   "source": [
    "optimizer=tf.train.gradient descent optimizer(learning_rate).minimize(cost_function)\n",
    "init=tf.initialize_all_variables()\n",
    "merge_summary_op=tf_merge_all_summaries()\n",
    "with tf.session() as sess:\n",
    "    sess.run(init)"
   ]
  },
  {
   "cell_type": "code",
   "execution_count": null,
   "metadata": {},
   "outputs": [],
   "source": [
    "summary_writer=tf.train.summarywriter(c:/temp/tensor_logs,graph_def=sess.graph_def)"
   ]
  },
  {
   "cell_type": "code",
   "execution_count": null,
   "metadata": {},
   "outputs": [],
   "source": [
    "for iteration in range (training_iteration):\n",
    "    avg=0\n",
    "    total_batch=int(mnist.train.num_example/batch_size)\n",
    "    "
   ]
  },
  {
   "cell_type": "code",
   "execution_count": null,
   "metadata": {},
   "outputs": [],
   "source": [
    "for i in range_xs=mnist.train.next_batch(batch_size):\n",
    "    batch_xs,batch_xs=mnist.train.next_batch(batch_size)"
   ]
  },
  {
   "cell_type": "code",
   "execution_count": null,
   "metadata": {},
   "outputs": [],
   "source": [
    "sess.run(optimizer,feed_dirct={x:batch_xs,y:batch_ys})\n",
    "avg_cost=sess.run(cost_function,feed_dirct={x:batch_xs,y:batch_ys})"
   ]
  },
  {
   "cell_type": "code",
   "execution_count": null,
   "metadata": {},
   "outputs": [],
   "source": [
    "summary_str=sess.run((merge_summary_op)eed_dirct={x:batch_xs,y:batch_ys})\n",
    "summary_writer.add_summary(summary_str,iteration*totalbatch+i)"
   ]
  },
  {
   "cell_type": "code",
   "execution_count": null,
   "metadata": {},
   "outputs": [],
   "source": [
    "if iteration % display_step==0:\n",
    "    print \"iteration\",'% odd' % (iteration+1),\"cost=\",\"{:af}\".format(avg_cost)\n",
    "    print \"training done\""
   ]
  },
  {
   "cell_type": "code",
   "execution_count": null,
   "metadata": {},
   "outputs": [],
   "source": [
    "predictions=tf.equal((tf.avgmax(model,1)),tf.avgmax(model,1))\n",
    "accuracy=tf.reduce_mean(tf.cost(predictions,\"float\"))\n",
    "print  \"accuracy:\",accuracy_eval({x:mnist.test.images,y:mnist.test.labels})"
   ]
  }
 ],
 "metadata": {
  "kernelspec": {
   "display_name": "Python 3",
   "language": "python",
   "name": "python3"
  },
  "language_info": {
   "codemirror_mode": {
    "name": "ipython",
    "version": 3
   },
   "file_extension": ".py",
   "mimetype": "text/x-python",
   "name": "python",
   "nbconvert_exporter": "python",
   "pygments_lexer": "ipython3",
   "version": "3.7.1"
  }
 },
 "nbformat": 4,
 "nbformat_minor": 2
}
