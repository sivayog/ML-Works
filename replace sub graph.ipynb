{
 "cells": [
  {
   "cell_type": "code",
   "execution_count": 1,
   "metadata": {},
   "outputs": [
    {
     "ename": "SyntaxError",
     "evalue": "invalid syntax (<ipython-input-1-2a4a55c62a72>, line 2)",
     "output_type": "error",
     "traceback": [
      "\u001b[0;36m  File \u001b[0;32m\"<ipython-input-1-2a4a55c62a72>\"\u001b[0;36m, line \u001b[0;32m2\u001b[0m\n\u001b[0;31m    input_graph_def,  // clang-format off\u001b[0m\n\u001b[0m                       ^\u001b[0m\n\u001b[0;31mSyntaxError\u001b[0m\u001b[0;31m:\u001b[0m invalid syntax\n"
     ]
    }
   ],
   "source": [
    "TF_RETURN_IF_ERROR(ReplaceMatchingOpTypes(\n",
    "    input_graph_def,  // clang-format off\n",
    "    {\"Conv2D\",\n",
    "        {\n",
    "            {\"ResizeBilinear\"},\n",
    "            {\"*\"}\n",
    "        }\n",
    "    },  // clang-format on\n",
    "    [](const NodeMatch& match, const std::set<string>& input_nodes,\n",
    "       const std::set<string>& output_nodes,\n",
    "       std::vector<NodeDef>* new_nodes) {\n",
    "      // Find all the nodes we expect in the subgraph.\n",
    "      const NodeDef& conv_node = match.node;\n",
    "      const NodeDef& resize_node = match.inputs[0].node;\n",
    "      const NodeDef& weights_node = match.inputs[1].node;\n",
    "\n",
    "      // We'll be reusing the old weights.\n",
    "      new_nodes->push_back(weights_node);\n",
    "\n",
    "      // Create a 'no-op' mirror padding node that has no effect.\n",
    "      NodeDef pad_dims_node;\n",
    "      pad_dims_node.set_op(\"Const\");\n",
    "      pad_dims_node.set_name(conv_node.name() + \"_dummy_paddings\");\n",
    "      SetNodeAttr(\"dtype\", DT_INT32, &pad_dims_node);\n",
    "      SetNodeTensorAttr<int32>(\"value\", {4, 2}, {0, 0, 0, 0, 0, 0, 0, 0},\n",
    "                               &pad_dims_node);\n",
    "      new_nodes->push_back(pad_dims_node);\n",
    "\n",
    "      // Set up the new fused version of the convolution op.\n",
    "      NodeDef fused_conv;\n",
    "      fused_conv.set_op(\"FusedResizeAndPadConv2D\");\n",
    "      fused_conv.set_name(match.node.name());\n",
    "      AddNodeInput(resize_node.input(0), &fused_conv);\n",
    "      AddNodeInput(resize_node.input(1), &fused_conv);\n",
    "      AddNodeInput(pad_dims_node.name(), &fused_conv);\n",
    "      AddNodeInput(conv_node.input(1), &fused_conv);\n",
    "      CopyNodeAttr(resize_node, \"align_corners\", \"resize_align_corners\",\n",
    "                   &fused_conv);\n",
    "      SetNodeAttr(\"mode\", \"REFLECT\", &fused_conv);\n",
    "      CopyNodeAttr(conv_node, \"T\", \"T\", &fused_conv);\n",
    "      CopyNodeAttr(conv_node, \"padding\", \"padding\", &fused_conv);\n",
    "      CopyNodeAttr(conv_node, \"strides\", \"strides\", &fused_conv);\n",
    "      new_nodes->push_back(fused_conv);\n",
    "\n",
    "      return Status::OK();\n",
    "    },\n",
    "    {}, &replaced_graph_def));"
   ]
  },
  {
   "cell_type": "code",
   "execution_count": null,
   "metadata": {},
   "outputs": [],
   "source": []
  }
 ],
 "metadata": {
  "kernelspec": {
   "display_name": "Python 3",
   "language": "python",
   "name": "python3"
  },
  "language_info": {
   "codemirror_mode": {
    "name": "ipython",
    "version": 3
   },
   "file_extension": ".py",
   "mimetype": "text/x-python",
   "name": "python",
   "nbconvert_exporter": "python",
   "pygments_lexer": "ipython3",
   "version": "3.6.6"
  }
 },
 "nbformat": 4,
 "nbformat_minor": 2
}
